{
  "nbformat": 4,
  "nbformat_minor": 0,
  "metadata": {
    "colab": {
      "name": "ner-decoder.ipynb",
      "provenance": [],
      "collapsed_sections": [],
      "include_colab_link": true
    },
    "kernelspec": {
      "name": "python3",
      "display_name": "Python 3"
    },
    "accelerator": "GPU"
  },
  "cells": [
    {
      "cell_type": "markdown",
      "metadata": {
        "id": "view-in-github",
        "colab_type": "text"
      },
      "source": [
        "<a href=\"https://colab.research.google.com/github/akksshah/AlgoWiki/blob/master/ner_decoder.ipynb\" target=\"_parent\"><img src=\"https://colab.research.google.com/assets/colab-badge.svg\" alt=\"Open In Colab\"/></a>"
      ]
    },
    {
      "cell_type": "markdown",
      "metadata": {
        "id": "IsY0LJOIT_cG",
        "colab_type": "text"
      },
      "source": [
        "# Implementing a Viterbi Decoder and Evaluation for Sequence Labeling\n",
        "\n",
        "In this assignment, you will build a Viterbi decoder for an LSTM named-entity recognition model. As we mentioned in class, recurrent and bidirectional recurrent neural networks, of which LSTMs are the most common examples, can be used to perform sequence labeling. Although these models encode information from the surrounding words in order to make predictions, there are no \"hard\" constraints on what tags can appear where.\n",
        "\n",
        "There hard constraints are particularly important for tasks that label spans of more than one token. The most common example of a span-labeling task is named-entity recognition (NER). As described in Eisenstein, Jurafksy & Martin, and other texts, the goal of NER is to label spans of one or more words as _mentions_ of an _entity_, such as a person, location, organization, etc.\n",
        "\n",
        "The most common approach to NER is to reduce it to a sequence-labeling task, where each token in the input is labeled either with an `O`, if it is \"outside\" any named-entity span, or with `B-TYPE`, if it is the first token in an entity of type `TYPE`, or with `I-TYPE`, if it is the second or later token in an entity of type `TYPE`. Distinguishing between the first and later tokens of an entity allow us to identify distinct entity spans even when they are adjacent.\n",
        "\n",
        "Common values of `TYPE` include `PER` for person, `LOC` for location, `DATE` for date, and so on. In the dataset we load below, there are 17 distinct types.\n",
        "\n",
        "The span-labeling scheme just described implies that the labels on tokens must obey certain constraints: the tag `I-PER` must follow either `B-PER` or another `I-PER`. I cannot follow `O`, `B-LOC`, or `I-LOC`, i.e., a tag for a different entity type. By themselves, LSTMs or bidirectional LSTMs cannot directly enforce these constraints. This is one reason why conditional random fields (CRFs), which _can_ enforce these constraints, are often layered on top of these recurrent models.\n",
        "\n",
        "In this assignment, you will implement the simplest possible CRF: a CRF so simple that it does not require any training. Rather, it will assign weight 1 to any sequence of tags that obeys the constraints and weight 0 to any sequence of tags that violates them. The inputs to the CRF, which are analogous to the emission probabilities in an HMM, will come from an LSTM.\n",
        "\n",
        "But first, in order to test your decoder, you will also implement some functions to evaluate the output of an NER system according to two metrics:\n",
        "1. You will count the number of _violations_ of the NER label constraints, i.e., how many times `I-TYPE` follows `O` or a tag of a different type. This number will be greater than 0 in the raw LSTM output, but should be 0 for your CRF output.\n",
        "1. You will compute the _span-level_ precision, recall, and F1 of NER output. Although the baseline LSTM was trained to achieve high _token-level_ accuracy, this metric can be misleadingly high, since so many tokens are correctly labeled `O`. In other words, what proportion of spans predicted by the model line up exactly with spans in the gold standard, and what proportion of spans in the gold standard were predicted by the model? For more, see the original task definition: https://www.aclweb.org/anthology/W03-0419/.\n",
        "\n",
        "We start with loading some code and data and the describe your tasks in more detail."
      ]
    },
    {
      "cell_type": "markdown",
      "metadata": {
        "id": "Dhnn49QEU_Ik",
        "colab_type": "text"
      },
      "source": [
        "## Set Up Dependencies and Definitions"
      ]
    },
    {
      "cell_type": "code",
      "metadata": {
        "id": "QJINX1MwOLBT",
        "colab_type": "code",
        "outputId": "c8162cf0-923b-478c-d9d0-58b71a3dcc5c",
        "colab": {
          "base_uri": "https://localhost:8080/",
          "height": 1000
        }
      },
      "source": [
        "def install_dependencies():\n",
        "  %pip install --upgrade spacy allennlp\n",
        "  import spacy\n",
        "  print(spacy.__version__)\n",
        "  \n",
        "\n",
        "install_dependencies()\n",
        "print(\"dependencies loaded\")"
      ],
      "execution_count": 2,
      "outputs": [
        {
          "output_type": "stream",
          "text": [
            "Requirement already up-to-date: spacy in /usr/local/lib/python3.6/dist-packages (2.2.4)\n",
            "Collecting allennlp\n",
            "\u001b[?25l  Downloading https://files.pythonhosted.org/packages/bb/bb/041115d8bad1447080e5d1e30097c95e4b66e36074277afce8620a61cee3/allennlp-0.9.0-py3-none-any.whl (7.6MB)\n",
            "\u001b[K     |████████████████████████████████| 7.6MB 4.2MB/s \n",
            "\u001b[?25hRequirement already satisfied, skipping upgrade: wasabi<1.1.0,>=0.4.0 in /usr/local/lib/python3.6/dist-packages (from spacy) (0.6.0)\n",
            "Requirement already satisfied, skipping upgrade: cymem<2.1.0,>=2.0.2 in /usr/local/lib/python3.6/dist-packages (from spacy) (2.0.3)\n",
            "Requirement already satisfied, skipping upgrade: murmurhash<1.1.0,>=0.28.0 in /usr/local/lib/python3.6/dist-packages (from spacy) (1.0.2)\n",
            "Requirement already satisfied, skipping upgrade: srsly<1.1.0,>=1.0.2 in /usr/local/lib/python3.6/dist-packages (from spacy) (1.0.2)\n",
            "Requirement already satisfied, skipping upgrade: preshed<3.1.0,>=3.0.2 in /usr/local/lib/python3.6/dist-packages (from spacy) (3.0.2)\n",
            "Requirement already satisfied, skipping upgrade: plac<1.2.0,>=0.9.6 in /usr/local/lib/python3.6/dist-packages (from spacy) (1.1.3)\n",
            "Requirement already satisfied, skipping upgrade: requests<3.0.0,>=2.13.0 in /usr/local/lib/python3.6/dist-packages (from spacy) (2.21.0)\n",
            "Requirement already satisfied, skipping upgrade: catalogue<1.1.0,>=0.0.7 in /usr/local/lib/python3.6/dist-packages (from spacy) (1.0.0)\n",
            "Requirement already satisfied, skipping upgrade: tqdm<5.0.0,>=4.38.0 in /usr/local/lib/python3.6/dist-packages (from spacy) (4.38.0)\n",
            "Requirement already satisfied, skipping upgrade: blis<0.5.0,>=0.4.0 in /usr/local/lib/python3.6/dist-packages (from spacy) (0.4.1)\n",
            "Requirement already satisfied, skipping upgrade: setuptools in /usr/local/lib/python3.6/dist-packages (from spacy) (46.0.0)\n",
            "Requirement already satisfied, skipping upgrade: thinc==7.4.0 in /usr/local/lib/python3.6/dist-packages (from spacy) (7.4.0)\n",
            "Requirement already satisfied, skipping upgrade: numpy>=1.15.0 in /usr/local/lib/python3.6/dist-packages (from spacy) (1.18.2)\n",
            "Requirement already satisfied, skipping upgrade: h5py in /usr/local/lib/python3.6/dist-packages (from allennlp) (2.10.0)\n",
            "Collecting numpydoc>=0.8.0\n",
            "  Downloading https://files.pythonhosted.org/packages/b0/70/4d8c3f9f6783a57ac9cc7a076e5610c0cc4a96af543cafc9247ac307fbfe/numpydoc-0.9.2.tar.gz\n",
            "Collecting responses>=0.7\n",
            "  Downloading https://files.pythonhosted.org/packages/a5/52/8063322bd9ee6e7921b74fcb730c6ba983ff995ddfabd966bb689e313464/responses-0.10.12-py2.py3-none-any.whl\n",
            "Collecting jsonpickle\n",
            "  Downloading https://files.pythonhosted.org/packages/7e/6b/fbb2d499b96861a18c1641f6fefe775110d3faba65c1524950e9ad64824a/jsonpickle-1.3-py2.py3-none-any.whl\n",
            "Collecting tensorboardX>=1.2\n",
            "\u001b[?25l  Downloading https://files.pythonhosted.org/packages/35/f1/5843425495765c8c2dd0784a851a93ef204d314fc87bcc2bbb9f662a3ad1/tensorboardX-2.0-py2.py3-none-any.whl (195kB)\n",
            "\u001b[K     |████████████████████████████████| 204kB 59.9MB/s \n",
            "\u001b[?25hRequirement already satisfied, skipping upgrade: scipy in /usr/local/lib/python3.6/dist-packages (from allennlp) (1.4.1)\n",
            "Requirement already satisfied, skipping upgrade: flask>=1.0.2 in /usr/local/lib/python3.6/dist-packages (from allennlp) (1.1.1)\n",
            "Requirement already satisfied, skipping upgrade: pytz>=2017.3 in /usr/local/lib/python3.6/dist-packages (from allennlp) (2018.9)\n",
            "Collecting jsonnet>=0.10.0; sys_platform != \"win32\"\n",
            "\u001b[?25l  Downloading https://files.pythonhosted.org/packages/33/b8/a8588d4010f13716a324f55d23999259bad9db2320f4fe919a66b2f651f3/jsonnet-0.15.0.tar.gz (255kB)\n",
            "\u001b[K     |████████████████████████████████| 256kB 61.4MB/s \n",
            "\u001b[?25hCollecting flaky\n",
            "  Downloading https://files.pythonhosted.org/packages/fe/12/0f169abf1aa07c7edef4855cca53703d2e6b7ecbded7829588ac7e7e3424/flaky-3.6.1-py2.py3-none-any.whl\n",
            "Collecting gevent>=1.3.6\n",
            "\u001b[?25l  Downloading https://files.pythonhosted.org/packages/f2/ca/5b5962361ed832847b6b2f9a2d0452c8c2f29a93baef850bb8ad067c7bf9/gevent-1.4.0-cp36-cp36m-manylinux1_x86_64.whl (5.5MB)\n",
            "\u001b[K     |████████████████████████████████| 5.5MB 45.8MB/s \n",
            "\u001b[?25hCollecting pytorch-pretrained-bert>=0.6.0\n",
            "\u001b[?25l  Downloading https://files.pythonhosted.org/packages/d7/e0/c08d5553b89973d9a240605b9c12404bcf8227590de62bae27acbcfe076b/pytorch_pretrained_bert-0.6.2-py3-none-any.whl (123kB)\n",
            "\u001b[K     |████████████████████████████████| 133kB 62.9MB/s \n",
            "\u001b[?25hCollecting parsimonious>=0.8.0\n",
            "\u001b[?25l  Downloading https://files.pythonhosted.org/packages/02/fc/067a3f89869a41009e1a7cdfb14725f8ddd246f30f63c645e8ef8a1c56f4/parsimonious-0.8.1.tar.gz (45kB)\n",
            "\u001b[K     |████████████████████████████████| 51kB 7.7MB/s \n",
            "\u001b[?25hRequirement already satisfied, skipping upgrade: scikit-learn in /usr/local/lib/python3.6/dist-packages (from allennlp) (0.22.2.post1)\n",
            "Requirement already satisfied, skipping upgrade: nltk in /usr/local/lib/python3.6/dist-packages (from allennlp) (3.2.5)\n",
            "Requirement already satisfied, skipping upgrade: sqlparse>=0.2.4 in /usr/local/lib/python3.6/dist-packages (from allennlp) (0.3.1)\n",
            "Collecting unidecode\n",
            "\u001b[?25l  Downloading https://files.pythonhosted.org/packages/d0/42/d9edfed04228bacea2d824904cae367ee9efd05e6cce7ceaaedd0b0ad964/Unidecode-1.1.1-py2.py3-none-any.whl (238kB)\n",
            "\u001b[K     |████████████████████████████████| 245kB 56.3MB/s \n",
            "\u001b[?25hRequirement already satisfied, skipping upgrade: pytest in /usr/local/lib/python3.6/dist-packages (from allennlp) (3.6.4)\n",
            "Collecting pytorch-transformers==1.1.0\n",
            "\u001b[?25l  Downloading https://files.pythonhosted.org/packages/50/89/ad0d6bb932d0a51793eaabcf1617a36ff530dc9ab9e38f765a35dc293306/pytorch_transformers-1.1.0-py3-none-any.whl (158kB)\n",
            "\u001b[K     |████████████████████████████████| 163kB 47.8MB/s \n",
            "\u001b[?25hCollecting flask-cors>=3.0.7\n",
            "  Downloading https://files.pythonhosted.org/packages/78/38/e68b11daa5d613e3a91e4bf3da76c94ac9ee0d9cd515af9c1ab80d36f709/Flask_Cors-3.0.8-py2.py3-none-any.whl\n",
            "Collecting conllu==1.3.1\n",
            "  Downloading https://files.pythonhosted.org/packages/ae/54/b0ae1199f3d01666821b028cd967f7c0ac527ab162af433d3da69242cea2/conllu-1.3.1-py2.py3-none-any.whl\n",
            "Collecting ftfy\n",
            "\u001b[?25l  Downloading https://files.pythonhosted.org/packages/ec/d8/5e877ac5e827eaa41a7ea8c0dc1d3042e05d7e337604dc2aedb854e7b500/ftfy-5.7.tar.gz (58kB)\n",
            "\u001b[K     |████████████████████████████████| 61kB 10.4MB/s \n",
            "\u001b[?25hCollecting overrides\n",
            "  Downloading https://files.pythonhosted.org/packages/72/dd/ac49f9c69540d7e09210415801a05d0a54d4d0ca8401503c46847dacd3a0/overrides-2.8.0.tar.gz\n",
            "Requirement already satisfied, skipping upgrade: torch>=1.2.0 in /usr/local/lib/python3.6/dist-packages (from allennlp) (1.4.0)\n",
            "Requirement already satisfied, skipping upgrade: matplotlib>=2.2.3 in /usr/local/lib/python3.6/dist-packages (from allennlp) (3.2.1)\n",
            "Requirement already satisfied, skipping upgrade: boto3 in /usr/local/lib/python3.6/dist-packages (from allennlp) (1.12.33)\n",
            "Collecting word2number>=1.1\n",
            "  Downloading https://files.pythonhosted.org/packages/4a/29/a31940c848521f0725f0df6b25dca8917f13a2025b0e8fcbe5d0457e45e6/word2number-1.1.zip\n",
            "Requirement already satisfied, skipping upgrade: editdistance in /usr/local/lib/python3.6/dist-packages (from allennlp) (0.5.3)\n",
            "Requirement already satisfied, skipping upgrade: chardet<3.1.0,>=3.0.2 in /usr/local/lib/python3.6/dist-packages (from requests<3.0.0,>=2.13.0->spacy) (3.0.4)\n",
            "Requirement already satisfied, skipping upgrade: certifi>=2017.4.17 in /usr/local/lib/python3.6/dist-packages (from requests<3.0.0,>=2.13.0->spacy) (2019.11.28)\n",
            "Requirement already satisfied, skipping upgrade: idna<2.9,>=2.5 in /usr/local/lib/python3.6/dist-packages (from requests<3.0.0,>=2.13.0->spacy) (2.8)\n",
            "Requirement already satisfied, skipping upgrade: urllib3<1.25,>=1.21.1 in /usr/local/lib/python3.6/dist-packages (from requests<3.0.0,>=2.13.0->spacy) (1.24.3)\n",
            "Requirement already satisfied, skipping upgrade: importlib-metadata>=0.20; python_version < \"3.8\" in /usr/local/lib/python3.6/dist-packages (from catalogue<1.1.0,>=0.0.7->spacy) (1.6.0)\n",
            "Requirement already satisfied, skipping upgrade: six in /usr/local/lib/python3.6/dist-packages (from h5py->allennlp) (1.12.0)\n",
            "Requirement already satisfied, skipping upgrade: sphinx>=1.6.5 in /usr/local/lib/python3.6/dist-packages (from numpydoc>=0.8.0->allennlp) (1.8.5)\n",
            "Requirement already satisfied, skipping upgrade: Jinja2>=2.3 in /usr/local/lib/python3.6/dist-packages (from numpydoc>=0.8.0->allennlp) (2.11.1)\n",
            "Requirement already satisfied, skipping upgrade: protobuf>=3.8.0 in /usr/local/lib/python3.6/dist-packages (from tensorboardX>=1.2->allennlp) (3.10.0)\n",
            "Requirement already satisfied, skipping upgrade: Werkzeug>=0.15 in /usr/local/lib/python3.6/dist-packages (from flask>=1.0.2->allennlp) (1.0.1)\n",
            "Requirement already satisfied, skipping upgrade: click>=5.1 in /usr/local/lib/python3.6/dist-packages (from flask>=1.0.2->allennlp) (7.1.1)\n",
            "Requirement already satisfied, skipping upgrade: itsdangerous>=0.24 in /usr/local/lib/python3.6/dist-packages (from flask>=1.0.2->allennlp) (1.1.0)\n",
            "Collecting greenlet>=0.4.14; platform_python_implementation == \"CPython\"\n",
            "\u001b[?25l  Downloading https://files.pythonhosted.org/packages/bf/45/142141aa47e01a5779f0fa5a53b81f8379ce8f2b1cd13df7d2f1d751ae42/greenlet-0.4.15-cp36-cp36m-manylinux1_x86_64.whl (41kB)\n",
            "\u001b[K     |████████████████████████████████| 51kB 8.9MB/s \n",
            "\u001b[?25hRequirement already satisfied, skipping upgrade: regex in /usr/local/lib/python3.6/dist-packages (from pytorch-pretrained-bert>=0.6.0->allennlp) (2019.12.20)\n",
            "Requirement already satisfied, skipping upgrade: joblib>=0.11 in /usr/local/lib/python3.6/dist-packages (from scikit-learn->allennlp) (0.14.1)\n",
            "Requirement already satisfied, skipping upgrade: more-itertools>=4.0.0 in /usr/local/lib/python3.6/dist-packages (from pytest->allennlp) (8.2.0)\n",
            "Requirement already satisfied, skipping upgrade: pluggy<0.8,>=0.5 in /usr/local/lib/python3.6/dist-packages (from pytest->allennlp) (0.7.1)\n",
            "Requirement already satisfied, skipping upgrade: py>=1.5.0 in /usr/local/lib/python3.6/dist-packages (from pytest->allennlp) (1.8.1)\n",
            "Requirement already satisfied, skipping upgrade: atomicwrites>=1.0 in /usr/local/lib/python3.6/dist-packages (from pytest->allennlp) (1.3.0)\n",
            "Requirement already satisfied, skipping upgrade: attrs>=17.4.0 in /usr/local/lib/python3.6/dist-packages (from pytest->allennlp) (19.3.0)\n",
            "Collecting sentencepiece\n",
            "\u001b[?25l  Downloading https://files.pythonhosted.org/packages/74/f4/2d5214cbf13d06e7cb2c20d84115ca25b53ea76fa1f0ade0e3c9749de214/sentencepiece-0.1.85-cp36-cp36m-manylinux1_x86_64.whl (1.0MB)\n",
            "\u001b[K     |████████████████████████████████| 1.0MB 48.0MB/s \n",
            "\u001b[?25hRequirement already satisfied, skipping upgrade: wcwidth in /usr/local/lib/python3.6/dist-packages (from ftfy->allennlp) (0.1.9)\n",
            "Requirement already satisfied, skipping upgrade: python-dateutil>=2.1 in /usr/local/lib/python3.6/dist-packages (from matplotlib>=2.2.3->allennlp) (2.8.1)\n",
            "Requirement already satisfied, skipping upgrade: kiwisolver>=1.0.1 in /usr/local/lib/python3.6/dist-packages (from matplotlib>=2.2.3->allennlp) (1.1.0)\n",
            "Requirement already satisfied, skipping upgrade: cycler>=0.10 in /usr/local/lib/python3.6/dist-packages (from matplotlib>=2.2.3->allennlp) (0.10.0)\n",
            "Requirement already satisfied, skipping upgrade: pyparsing!=2.0.4,!=2.1.2,!=2.1.6,>=2.0.1 in /usr/local/lib/python3.6/dist-packages (from matplotlib>=2.2.3->allennlp) (2.4.6)\n",
            "Requirement already satisfied, skipping upgrade: botocore<1.16.0,>=1.15.33 in /usr/local/lib/python3.6/dist-packages (from boto3->allennlp) (1.15.33)\n",
            "Requirement already satisfied, skipping upgrade: s3transfer<0.4.0,>=0.3.0 in /usr/local/lib/python3.6/dist-packages (from boto3->allennlp) (0.3.3)\n",
            "Requirement already satisfied, skipping upgrade: jmespath<1.0.0,>=0.7.1 in /usr/local/lib/python3.6/dist-packages (from boto3->allennlp) (0.9.5)\n",
            "Requirement already satisfied, skipping upgrade: zipp>=0.5 in /usr/local/lib/python3.6/dist-packages (from importlib-metadata>=0.20; python_version < \"3.8\"->catalogue<1.1.0,>=0.0.7->spacy) (3.1.0)\n",
            "Requirement already satisfied, skipping upgrade: babel!=2.0,>=1.3 in /usr/local/lib/python3.6/dist-packages (from sphinx>=1.6.5->numpydoc>=0.8.0->allennlp) (2.8.0)\n",
            "Requirement already satisfied, skipping upgrade: docutils>=0.11 in /usr/local/lib/python3.6/dist-packages (from sphinx>=1.6.5->numpydoc>=0.8.0->allennlp) (0.15.2)\n",
            "Requirement already satisfied, skipping upgrade: imagesize in /usr/local/lib/python3.6/dist-packages (from sphinx>=1.6.5->numpydoc>=0.8.0->allennlp) (1.2.0)\n",
            "Requirement already satisfied, skipping upgrade: packaging in /usr/local/lib/python3.6/dist-packages (from sphinx>=1.6.5->numpydoc>=0.8.0->allennlp) (20.3)\n",
            "Requirement already satisfied, skipping upgrade: alabaster<0.8,>=0.7 in /usr/local/lib/python3.6/dist-packages (from sphinx>=1.6.5->numpydoc>=0.8.0->allennlp) (0.7.12)\n",
            "Requirement already satisfied, skipping upgrade: sphinxcontrib-websupport in /usr/local/lib/python3.6/dist-packages (from sphinx>=1.6.5->numpydoc>=0.8.0->allennlp) (1.2.1)\n",
            "Requirement already satisfied, skipping upgrade: snowballstemmer>=1.1 in /usr/local/lib/python3.6/dist-packages (from sphinx>=1.6.5->numpydoc>=0.8.0->allennlp) (2.0.0)\n",
            "Requirement already satisfied, skipping upgrade: Pygments>=2.0 in /usr/local/lib/python3.6/dist-packages (from sphinx>=1.6.5->numpydoc>=0.8.0->allennlp) (2.1.3)\n",
            "Requirement already satisfied, skipping upgrade: MarkupSafe>=0.23 in /usr/local/lib/python3.6/dist-packages (from Jinja2>=2.3->numpydoc>=0.8.0->allennlp) (1.1.1)\n",
            "Building wheels for collected packages: numpydoc, jsonnet, parsimonious, ftfy, overrides, word2number\n",
            "  Building wheel for numpydoc (setup.py) ... \u001b[?25l\u001b[?25hdone\n",
            "  Created wheel for numpydoc: filename=numpydoc-0.9.2-cp36-none-any.whl size=31893 sha256=d9509bd962517645d806f07fca48d231af2b49e25e7014ecb3da070efb558251\n",
            "  Stored in directory: /root/.cache/pip/wheels/96/f3/52/25c8e1f40637661d27feebc61dae16b84c7cdd93b8bc3d7486\n",
            "  Building wheel for jsonnet (setup.py) ... \u001b[?25l\u001b[?25hdone\n",
            "  Created wheel for jsonnet: filename=jsonnet-0.15.0-cp36-cp36m-linux_x86_64.whl size=3319823 sha256=783b4fb019ead51f30a1e3301018e6240ab6916e0a00350a06e96a7f5e7c8658\n",
            "  Stored in directory: /root/.cache/pip/wheels/57/63/2e/da89cfe1ba08550bd7262d5d9c027edc313980c3b85b3b0a38\n",
            "  Building wheel for parsimonious (setup.py) ... \u001b[?25l\u001b[?25hdone\n",
            "  Created wheel for parsimonious: filename=parsimonious-0.8.1-cp36-none-any.whl size=42712 sha256=2134ff043b1dec83a61eab248ae3ffbe75d3cf4aabda24390b6336062a5e706c\n",
            "  Stored in directory: /root/.cache/pip/wheels/b7/8d/e7/a0e74217da5caeb3c1c7689639b6d28ddbf9985b840bc96a9a\n",
            "  Building wheel for ftfy (setup.py) ... \u001b[?25l\u001b[?25hdone\n",
            "  Created wheel for ftfy: filename=ftfy-5.7-cp36-none-any.whl size=44593 sha256=1cb477bd1ef903ad6dfe8dfa72971c0ca95a157f008a92fab7e369f4deae6ecf\n",
            "  Stored in directory: /root/.cache/pip/wheels/8e/da/59/6c8925d571aacade638a0f515960c21c0887af1bfe31908fbf\n",
            "  Building wheel for overrides (setup.py) ... \u001b[?25l\u001b[?25hdone\n",
            "  Created wheel for overrides: filename=overrides-2.8.0-cp36-none-any.whl size=5609 sha256=cad54dba3c61369bf6fa3e8a8295e7b1d12d1f4ecb55883c96b4b12fe94a5ef7\n",
            "  Stored in directory: /root/.cache/pip/wheels/df/f1/ba/eaf6cd7d284d2f257dc71436ce72d25fd3be5a5813a37794ab\n",
            "  Building wheel for word2number (setup.py) ... \u001b[?25l\u001b[?25hdone\n",
            "  Created wheel for word2number: filename=word2number-1.1-cp36-none-any.whl size=5587 sha256=6c3e9d978c3fb66cb7ea22722149ff3adde2d86be033d1dfd75f5a1330490a4c\n",
            "  Stored in directory: /root/.cache/pip/wheels/46/2f/53/5f5c1d275492f2fce1cdab9a9bb12d49286dead829a4078e0e\n",
            "Successfully built numpydoc jsonnet parsimonious ftfy overrides word2number\n",
            "\u001b[31mERROR: allennlp 0.9.0 has requirement spacy<2.2,>=2.1.0, but you'll have spacy 2.2.4 which is incompatible.\u001b[0m\n",
            "Installing collected packages: numpydoc, responses, jsonpickle, tensorboardX, jsonnet, flaky, greenlet, gevent, pytorch-pretrained-bert, parsimonious, unidecode, sentencepiece, pytorch-transformers, flask-cors, conllu, ftfy, overrides, word2number, allennlp\n",
            "Successfully installed allennlp-0.9.0 conllu-1.3.1 flaky-3.6.1 flask-cors-3.0.8 ftfy-5.7 gevent-1.4.0 greenlet-0.4.15 jsonnet-0.15.0 jsonpickle-1.3 numpydoc-0.9.2 overrides-2.8.0 parsimonious-0.8.1 pytorch-pretrained-bert-0.6.2 pytorch-transformers-1.1.0 responses-0.10.12 sentencepiece-0.1.85 tensorboardX-2.0 unidecode-1.1.1 word2number-1.1\n",
            "2.2.4\n",
            "dependencies loaded\n"
          ],
          "name": "stdout"
        }
      ]
    },
    {
      "cell_type": "code",
      "metadata": {
        "id": "f4zJfaIlJ2bv",
        "colab_type": "code",
        "outputId": "004136a3-7396-444c-eba5-8be1486b01ff",
        "colab": {
          "base_uri": "https://localhost:8080/",
          "height": 34
        }
      },
      "source": [
        "from typing import Iterator, List, Dict\n",
        "import torch\n",
        "import torch.optim as optim\n",
        "import numpy as np\n",
        "from allennlp.data import Instance\n",
        "from allennlp.data.fields import TextField, SequenceLabelField\n",
        "from allennlp.data.dataset_readers import DatasetReader\n",
        "from allennlp.common.file_utils import cached_path\n",
        "from allennlp.data.token_indexers import TokenIndexer, SingleIdTokenIndexer\n",
        "from allennlp.data.tokenizers import Token\n",
        "from allennlp.data.vocabulary import Vocabulary\n",
        "from allennlp.models import Model\n",
        "from allennlp.modules.text_field_embedders import TextFieldEmbedder, BasicTextFieldEmbedder\n",
        "from allennlp.modules.token_embedders import Embedding\n",
        "from allennlp.modules.seq2seq_encoders import Seq2SeqEncoder, PytorchSeq2SeqWrapper\n",
        "from allennlp.nn.util import get_text_field_mask, sequence_cross_entropy_with_logits\n",
        "from allennlp.training.metrics import CategoricalAccuracy\n",
        "from allennlp.data.iterators import BucketIterator\n",
        "from allennlp.training.trainer import Trainer\n",
        "from allennlp.predictors import SentenceTaggerPredictor\n",
        "from allennlp.data.dataset_readers import conll2003\n",
        "\n",
        "torch.manual_seed(1)"
      ],
      "execution_count": 3,
      "outputs": [
        {
          "output_type": "execute_result",
          "data": {
            "text/plain": [
              "<torch._C.Generator at 0x7f47172f8b70>"
            ]
          },
          "metadata": {
            "tags": []
          },
          "execution_count": 3
        }
      ]
    },
    {
      "cell_type": "code",
      "metadata": {
        "id": "Qo16Ko0Gchxk",
        "colab_type": "code",
        "colab": {}
      },
      "source": [
        "class LstmTagger(Model):\n",
        "  def __init__(self,\n",
        "               word_embeddings: TextFieldEmbedder,\n",
        "               encoder: Seq2SeqEncoder,\n",
        "               vocab: Vocabulary) -> None:\n",
        "    super().__init__(vocab)\n",
        "    self.word_embeddings = word_embeddings\n",
        "    self.encoder = encoder\n",
        "    self.hidden2tag = torch.nn.Linear(in_features=encoder.get_output_dim(),\n",
        "                                      out_features=vocab.get_vocab_size('labels'))\n",
        "    self.accuracy = CategoricalAccuracy()\n",
        "\n",
        "  def forward(self,\n",
        "              tokens: Dict[str, torch.Tensor],\n",
        "              metadata,\n",
        "              tags: torch.Tensor = None) -> Dict[str, torch.Tensor]:\n",
        "    mask = get_text_field_mask(tokens)\n",
        "    embeddings = self.word_embeddings(tokens)\n",
        "    encoder_out = self.encoder(embeddings, mask)\n",
        "    tag_logits = self.hidden2tag(encoder_out)\n",
        "    output = {\"tag_logits\": tag_logits}\n",
        "    if tags is not None:\n",
        "      self.accuracy(tag_logits, tags, mask)\n",
        "      output[\"loss\"] = sequence_cross_entropy_with_logits(tag_logits, tags, mask)\n",
        "\n",
        "    return output\n",
        "\n",
        "  def get_metrics(self, reset: bool = False) -> Dict[str, float]:\n",
        "    return {\"accuracy\": self.accuracy.get_metric(reset)}"
      ],
      "execution_count": 0,
      "outputs": []
    },
    {
      "cell_type": "markdown",
      "metadata": {
        "id": "mVdKvPftVVLt",
        "colab_type": "text"
      },
      "source": [
        "## Import Data"
      ]
    },
    {
      "cell_type": "code",
      "metadata": {
        "id": "5sOVVZslKm3N",
        "colab_type": "code",
        "outputId": "c90dc4d4-f324-4d57-9b35-5ee79bf1af17",
        "colab": {
          "base_uri": "https://localhost:8080/",
          "height": 121
        }
      },
      "source": [
        "reader = conll2003.Conll2003DatasetReader()\n",
        "train_dataset = reader.read(cached_path('http://www.ccs.neu.edu/home/dasmith/onto.train.ner.sample'))\n",
        "validation_dataset = reader.read(cached_path('http://www.ccs.neu.edu/home/dasmith/onto.development.ner.sample'))\n",
        "\n",
        "vocab = Vocabulary.from_instances(train_dataset + validation_dataset)\n",
        "print(\"Load Complete\")"
      ],
      "execution_count": 5,
      "outputs": [
        {
          "output_type": "stream",
          "text": [
            "159377B [00:00, 2617766.96B/s]\n",
            "562it [00:00, 4972.06it/s]\n",
            "8366B [00:00, 12364181.56B/s]\n",
            "23it [00:00, 6582.22it/s]\n",
            "100%|██████████| 585/585 [00:00<00:00, 41373.71it/s]"
          ],
          "name": "stderr"
        },
        {
          "output_type": "stream",
          "text": [
            "Load Complete\n"
          ],
          "name": "stdout"
        },
        {
          "output_type": "stream",
          "text": [
            "\n"
          ],
          "name": "stderr"
        }
      ]
    },
    {
      "cell_type": "markdown",
      "metadata": {
        "id": "wpg2Udr-Vnwm",
        "colab_type": "text"
      },
      "source": [
        "## Define and Train Model"
      ]
    },
    {
      "cell_type": "code",
      "metadata": {
        "id": "8kDQQBMywdKx",
        "colab_type": "code",
        "outputId": "dcddc657-8eec-4eeb-dd62-9e1d299bc46e",
        "colab": {
          "base_uri": "https://localhost:8080/",
          "height": 1000
        }
      },
      "source": [
        "EMBEDDING_DIM = 6\n",
        "HIDDEN_DIM = 6\n",
        "token_embedding = Embedding(num_embeddings=vocab.get_vocab_size('tokens'),\n",
        "                            embedding_dim=EMBEDDING_DIM)\n",
        "word_embeddings = BasicTextFieldEmbedder({\"tokens\": token_embedding})\n",
        "lstm = PytorchSeq2SeqWrapper(torch.nn.LSTM(EMBEDDING_DIM, HIDDEN_DIM, bidirectional=False, batch_first=True))\n",
        "model = LstmTagger(word_embeddings, lstm, vocab)\n",
        "if torch.cuda.is_available():\n",
        "    cuda_device = 0\n",
        "    model = model.cuda(cuda_device)\n",
        "else:\n",
        "    cuda_device = -1\n",
        "# optimizer = optim.AdamW(model.parameters(), lr=1e-4, eps=1e-8)\n",
        "optimizer = optim.SGD(model.parameters(), lr=0.1)\n",
        "iterator = BucketIterator(batch_size=2, sorting_keys=[(\"tokens\", \"num_tokens\")])\n",
        "iterator.index_with(vocab)\n",
        "trainer = Trainer(model=model,\n",
        "                  optimizer=optimizer,\n",
        "                  iterator=iterator,\n",
        "                  train_dataset=train_dataset,\n",
        "                  validation_dataset=validation_dataset,\n",
        "                  patience=10,\n",
        "                  num_epochs=100,\n",
        "                  cuda_device=cuda_device)\n",
        "trainer.train()\n",
        "print(\"train complete\")"
      ],
      "execution_count": 6,
      "outputs": [
        {
          "output_type": "stream",
          "text": [
            "accuracy: 0.8442, loss: 0.9055 ||: 100%|██████████| 281/281 [00:01<00:00, 175.82it/s]\n",
            "accuracy: 0.7878, loss: 1.1976 ||: 100%|██████████| 12/12 [00:00<00:00, 405.66it/s]\n",
            "accuracy: 0.8442, loss: 0.7297 ||: 100%|██████████| 281/281 [00:01<00:00, 252.91it/s]\n",
            "accuracy: 0.7878, loss: 1.1956 ||: 100%|██████████| 12/12 [00:00<00:00, 435.37it/s]\n",
            "accuracy: 0.8442, loss: 0.7153 ||: 100%|██████████| 281/281 [00:01<00:00, 253.84it/s]\n",
            "accuracy: 0.7878, loss: 1.1694 ||: 100%|██████████| 12/12 [00:00<00:00, 474.04it/s]\n",
            "accuracy: 0.8442, loss: 0.7067 ||: 100%|██████████| 281/281 [00:01<00:00, 249.11it/s]\n",
            "accuracy: 0.7878, loss: 1.1705 ||: 100%|██████████| 12/12 [00:00<00:00, 454.91it/s]\n",
            "accuracy: 0.8442, loss: 0.6987 ||: 100%|██████████| 281/281 [00:01<00:00, 255.14it/s]\n",
            "accuracy: 0.7878, loss: 1.1580 ||: 100%|██████████| 12/12 [00:00<00:00, 445.39it/s]\n",
            "accuracy: 0.8442, loss: 0.6896 ||: 100%|██████████| 281/281 [00:01<00:00, 251.93it/s]\n",
            "accuracy: 0.7878, loss: 1.1776 ||: 100%|██████████| 12/12 [00:00<00:00, 445.57it/s]\n",
            "accuracy: 0.8442, loss: 0.6811 ||: 100%|██████████| 281/281 [00:01<00:00, 248.71it/s]\n",
            "accuracy: 0.7878, loss: 1.1512 ||: 100%|██████████| 12/12 [00:00<00:00, 462.10it/s]\n",
            "accuracy: 0.8442, loss: 0.6689 ||: 100%|██████████| 281/281 [00:01<00:00, 250.12it/s]\n",
            "accuracy: 0.7878, loss: 1.1425 ||: 100%|██████████| 12/12 [00:00<00:00, 372.51it/s]\n",
            "accuracy: 0.8442, loss: 0.6546 ||: 100%|██████████| 281/281 [00:01<00:00, 256.77it/s]\n",
            "accuracy: 0.7878, loss: 1.1161 ||: 100%|██████████| 12/12 [00:00<00:00, 466.18it/s]\n",
            "accuracy: 0.8442, loss: 0.6370 ||: 100%|██████████| 281/281 [00:01<00:00, 250.11it/s]\n",
            "accuracy: 0.7878, loss: 1.0767 ||: 100%|██████████| 12/12 [00:00<00:00, 421.34it/s]\n",
            "accuracy: 0.8442, loss: 0.6109 ||: 100%|██████████| 281/281 [00:01<00:00, 251.81it/s]\n",
            "accuracy: 0.7878, loss: 1.0482 ||: 100%|██████████| 12/12 [00:00<00:00, 441.99it/s]\n",
            "accuracy: 0.8442, loss: 0.5755 ||: 100%|██████████| 281/281 [00:01<00:00, 253.35it/s]\n",
            "accuracy: 0.7878, loss: 1.0019 ||: 100%|██████████| 12/12 [00:00<00:00, 464.19it/s]\n",
            "accuracy: 0.8467, loss: 0.5372 ||: 100%|██████████| 281/281 [00:01<00:00, 246.25it/s]\n",
            "accuracy: 0.7878, loss: 0.9269 ||: 100%|██████████| 12/12 [00:00<00:00, 374.56it/s]\n",
            "accuracy: 0.8566, loss: 0.4988 ||: 100%|██████████| 281/281 [00:01<00:00, 243.12it/s]\n",
            "accuracy: 0.7878, loss: 0.8525 ||: 100%|██████████| 12/12 [00:00<00:00, 454.82it/s]\n",
            "accuracy: 0.8591, loss: 0.4702 ||: 100%|██████████| 281/281 [00:01<00:00, 258.02it/s]\n",
            "accuracy: 0.7939, loss: 0.8894 ||: 100%|██████████| 12/12 [00:00<00:00, 480.84it/s]\n",
            "accuracy: 0.8603, loss: 0.4468 ||: 100%|██████████| 281/281 [00:01<00:00, 254.56it/s]\n",
            "accuracy: 0.7939, loss: 0.7906 ||: 100%|██████████| 12/12 [00:00<00:00, 425.82it/s]\n",
            "accuracy: 0.8616, loss: 0.4298 ||: 100%|██████████| 281/281 [00:01<00:00, 247.00it/s]\n",
            "accuracy: 0.7939, loss: 0.7902 ||: 100%|██████████| 12/12 [00:00<00:00, 463.33it/s]\n",
            "accuracy: 0.8617, loss: 0.4151 ||: 100%|██████████| 281/281 [00:01<00:00, 251.53it/s]\n",
            "accuracy: 0.7939, loss: 0.7763 ||: 100%|██████████| 12/12 [00:00<00:00, 443.47it/s]\n",
            "accuracy: 0.8626, loss: 0.4060 ||: 100%|██████████| 281/281 [00:01<00:00, 252.55it/s]\n",
            "accuracy: 0.7939, loss: 0.7901 ||: 100%|██████████| 12/12 [00:00<00:00, 430.61it/s]\n",
            "accuracy: 0.8629, loss: 0.3985 ||: 100%|██████████| 281/281 [00:01<00:00, 249.51it/s]\n",
            "accuracy: 0.7939, loss: 0.7449 ||: 100%|██████████| 12/12 [00:00<00:00, 458.79it/s]\n",
            "accuracy: 0.8640, loss: 0.3910 ||: 100%|██████████| 281/281 [00:01<00:00, 252.55it/s]\n",
            "accuracy: 0.7939, loss: 0.7466 ||: 100%|██████████| 12/12 [00:00<00:00, 452.99it/s]\n",
            "accuracy: 0.8642, loss: 0.3860 ||: 100%|██████████| 281/281 [00:01<00:00, 255.68it/s]\n",
            "accuracy: 0.7939, loss: 0.7567 ||: 100%|██████████| 12/12 [00:00<00:00, 465.43it/s]\n",
            "accuracy: 0.8648, loss: 0.3805 ||: 100%|██████████| 281/281 [00:01<00:00, 254.67it/s]\n",
            "accuracy: 0.7939, loss: 0.7136 ||: 100%|██████████| 12/12 [00:00<00:00, 440.27it/s]\n",
            "accuracy: 0.8644, loss: 0.3777 ||: 100%|██████████| 281/281 [00:01<00:00, 255.06it/s]\n",
            "accuracy: 0.7939, loss: 0.7057 ||: 100%|██████████| 12/12 [00:00<00:00, 389.38it/s]\n",
            "accuracy: 0.8647, loss: 0.3747 ||: 100%|██████████| 281/281 [00:01<00:00, 248.31it/s]\n",
            "accuracy: 0.7939, loss: 0.6938 ||: 100%|██████████| 12/12 [00:00<00:00, 478.65it/s]\n",
            "accuracy: 0.8655, loss: 0.3707 ||: 100%|██████████| 281/281 [00:01<00:00, 253.01it/s]\n",
            "accuracy: 0.7959, loss: 0.6984 ||: 100%|██████████| 12/12 [00:00<00:00, 462.83it/s]\n",
            "accuracy: 0.8666, loss: 0.3653 ||: 100%|██████████| 281/281 [00:01<00:00, 255.92it/s]\n",
            "accuracy: 0.8000, loss: 0.6899 ||: 100%|██████████| 12/12 [00:00<00:00, 455.54it/s]\n",
            "accuracy: 0.8695, loss: 0.3611 ||: 100%|██████████| 281/281 [00:01<00:00, 255.95it/s]\n",
            "accuracy: 0.8000, loss: 0.6924 ||: 100%|██████████| 12/12 [00:00<00:00, 454.58it/s]\n",
            "accuracy: 0.8714, loss: 0.3587 ||: 100%|██████████| 281/281 [00:01<00:00, 251.69it/s]\n",
            "accuracy: 0.8041, loss: 0.6897 ||: 100%|██████████| 12/12 [00:00<00:00, 465.91it/s]\n",
            "accuracy: 0.8728, loss: 0.3540 ||: 100%|██████████| 281/281 [00:01<00:00, 251.67it/s]\n",
            "accuracy: 0.8000, loss: 0.6799 ||: 100%|██████████| 12/12 [00:00<00:00, 457.22it/s]\n",
            "accuracy: 0.8725, loss: 0.3510 ||: 100%|██████████| 281/281 [00:01<00:00, 251.73it/s]\n",
            "accuracy: 0.8082, loss: 0.6776 ||: 100%|██████████| 12/12 [00:00<00:00, 421.22it/s]\n",
            "accuracy: 0.8730, loss: 0.3465 ||: 100%|██████████| 281/281 [00:01<00:00, 251.01it/s]\n",
            "accuracy: 0.8061, loss: 0.6893 ||: 100%|██████████| 12/12 [00:00<00:00, 465.02it/s]\n",
            "accuracy: 0.8752, loss: 0.3463 ||: 100%|██████████| 281/281 [00:01<00:00, 254.59it/s]\n",
            "accuracy: 0.8184, loss: 0.6473 ||: 100%|██████████| 12/12 [00:00<00:00, 456.16it/s]\n",
            "accuracy: 0.8771, loss: 0.3406 ||: 100%|██████████| 281/281 [00:01<00:00, 237.79it/s]\n",
            "accuracy: 0.8184, loss: 0.6560 ||: 100%|██████████| 12/12 [00:00<00:00, 450.43it/s]\n",
            "accuracy: 0.8750, loss: 0.3403 ||: 100%|██████████| 281/281 [00:01<00:00, 243.84it/s]\n",
            "accuracy: 0.8163, loss: 0.6616 ||: 100%|██████████| 12/12 [00:00<00:00, 456.88it/s]\n",
            "accuracy: 0.8773, loss: 0.3358 ||: 100%|██████████| 281/281 [00:01<00:00, 248.03it/s]\n",
            "accuracy: 0.8184, loss: 0.6430 ||: 100%|██████████| 12/12 [00:00<00:00, 368.73it/s]\n",
            "accuracy: 0.8779, loss: 0.3340 ||: 100%|██████████| 281/281 [00:01<00:00, 249.64it/s]\n",
            "accuracy: 0.8204, loss: 0.6351 ||: 100%|██████████| 12/12 [00:00<00:00, 477.63it/s]\n",
            "accuracy: 0.8793, loss: 0.3304 ||: 100%|██████████| 281/281 [00:01<00:00, 253.66it/s]\n",
            "accuracy: 0.8204, loss: 0.6436 ||: 100%|██████████| 12/12 [00:00<00:00, 449.45it/s]\n",
            "accuracy: 0.8804, loss: 0.3278 ||: 100%|██████████| 281/281 [00:01<00:00, 249.82it/s]\n",
            "accuracy: 0.8224, loss: 0.6321 ||: 100%|██████████| 12/12 [00:00<00:00, 458.30it/s]\n",
            "accuracy: 0.8813, loss: 0.3257 ||: 100%|██████████| 281/281 [00:01<00:00, 251.78it/s]\n",
            "accuracy: 0.8224, loss: 0.6207 ||: 100%|██████████| 12/12 [00:00<00:00, 457.79it/s]\n",
            "accuracy: 0.8809, loss: 0.3235 ||: 100%|██████████| 281/281 [00:01<00:00, 254.47it/s]\n",
            "accuracy: 0.8245, loss: 0.6259 ||: 100%|██████████| 12/12 [00:00<00:00, 472.62it/s]\n",
            "accuracy: 0.8829, loss: 0.3204 ||: 100%|██████████| 281/281 [00:01<00:00, 250.32it/s]\n",
            "accuracy: 0.8265, loss: 0.6312 ||: 100%|██████████| 12/12 [00:00<00:00, 404.21it/s]\n",
            "accuracy: 0.8839, loss: 0.3151 ||: 100%|██████████| 281/281 [00:01<00:00, 252.14it/s]\n",
            "accuracy: 0.8306, loss: 0.6214 ||: 100%|██████████| 12/12 [00:00<00:00, 460.90it/s]\n",
            "accuracy: 0.8850, loss: 0.3140 ||: 100%|██████████| 281/281 [00:01<00:00, 252.71it/s]\n",
            "accuracy: 0.8204, loss: 0.6279 ||: 100%|██████████| 12/12 [00:00<00:00, 428.80it/s]\n",
            "accuracy: 0.8865, loss: 0.3128 ||: 100%|██████████| 281/281 [00:01<00:00, 253.23it/s]\n",
            "accuracy: 0.8367, loss: 0.5970 ||: 100%|██████████| 12/12 [00:00<00:00, 465.95it/s]\n",
            "accuracy: 0.8875, loss: 0.3114 ||: 100%|██████████| 281/281 [00:01<00:00, 255.31it/s]\n",
            "accuracy: 0.8347, loss: 0.6055 ||: 100%|██████████| 12/12 [00:00<00:00, 472.11it/s]\n",
            "accuracy: 0.8879, loss: 0.3060 ||: 100%|██████████| 281/281 [00:01<00:00, 255.13it/s]\n",
            "accuracy: 0.8429, loss: 0.5938 ||: 100%|██████████| 12/12 [00:00<00:00, 472.63it/s]\n",
            "accuracy: 0.8893, loss: 0.3024 ||: 100%|██████████| 281/281 [00:01<00:00, 253.59it/s]\n",
            "accuracy: 0.8327, loss: 0.5917 ||: 100%|██████████| 12/12 [00:00<00:00, 457.73it/s]\n",
            "accuracy: 0.8906, loss: 0.3022 ||: 100%|██████████| 281/281 [00:01<00:00, 251.81it/s]\n",
            "accuracy: 0.8469, loss: 0.5830 ||: 100%|██████████| 12/12 [00:00<00:00, 461.12it/s]\n",
            "accuracy: 0.8939, loss: 0.2969 ||: 100%|██████████| 281/281 [00:01<00:00, 254.32it/s]\n",
            "accuracy: 0.8367, loss: 0.5929 ||: 100%|██████████| 12/12 [00:00<00:00, 478.47it/s]\n",
            "accuracy: 0.8925, loss: 0.2956 ||: 100%|██████████| 281/281 [00:01<00:00, 252.54it/s]\n",
            "accuracy: 0.8449, loss: 0.5736 ||: 100%|██████████| 12/12 [00:00<00:00, 400.87it/s]\n",
            "accuracy: 0.8929, loss: 0.2923 ||: 100%|██████████| 281/281 [00:01<00:00, 252.91it/s]\n",
            "accuracy: 0.8510, loss: 0.5653 ||: 100%|██████████| 12/12 [00:00<00:00, 451.09it/s]\n",
            "accuracy: 0.8955, loss: 0.2914 ||: 100%|██████████| 281/281 [00:01<00:00, 242.54it/s]\n",
            "accuracy: 0.8449, loss: 0.5761 ||: 100%|██████████| 12/12 [00:00<00:00, 396.78it/s]\n",
            "accuracy: 0.8929, loss: 0.2872 ||: 100%|██████████| 281/281 [00:01<00:00, 237.12it/s]\n",
            "accuracy: 0.8490, loss: 0.5762 ||: 100%|██████████| 12/12 [00:00<00:00, 453.38it/s]\n",
            "accuracy: 0.8960, loss: 0.2843 ||: 100%|██████████| 281/281 [00:01<00:00, 240.86it/s]\n",
            "accuracy: 0.8469, loss: 0.5561 ||: 100%|██████████| 12/12 [00:00<00:00, 464.86it/s]\n",
            "accuracy: 0.8949, loss: 0.2805 ||: 100%|██████████| 281/281 [00:01<00:00, 239.23it/s]\n",
            "accuracy: 0.8531, loss: 0.5663 ||: 100%|██████████| 12/12 [00:00<00:00, 435.19it/s]\n",
            "accuracy: 0.8997, loss: 0.2794 ||: 100%|██████████| 281/281 [00:01<00:00, 237.64it/s]\n",
            "accuracy: 0.8510, loss: 0.5439 ||: 100%|██████████| 12/12 [00:00<00:00, 382.49it/s]\n",
            "accuracy: 0.8986, loss: 0.2759 ||: 100%|██████████| 281/281 [00:01<00:00, 240.72it/s]\n",
            "accuracy: 0.8531, loss: 0.5439 ||: 100%|██████████| 12/12 [00:00<00:00, 460.20it/s]\n",
            "accuracy: 0.8988, loss: 0.2731 ||: 100%|██████████| 281/281 [00:01<00:00, 236.82it/s]\n",
            "accuracy: 0.8490, loss: 0.5515 ||: 100%|██████████| 12/12 [00:00<00:00, 458.29it/s]\n",
            "accuracy: 0.9014, loss: 0.2700 ||: 100%|██████████| 281/281 [00:01<00:00, 234.49it/s]\n",
            "accuracy: 0.8531, loss: 0.5432 ||: 100%|██████████| 12/12 [00:00<00:00, 419.31it/s]\n",
            "accuracy: 0.8991, loss: 0.2680 ||: 100%|██████████| 281/281 [00:01<00:00, 240.34it/s]\n",
            "accuracy: 0.8571, loss: 0.5380 ||: 100%|██████████| 12/12 [00:00<00:00, 371.02it/s]\n",
            "accuracy: 0.9014, loss: 0.2625 ||: 100%|██████████| 281/281 [00:01<00:00, 246.93it/s]\n",
            "accuracy: 0.8531, loss: 0.5410 ||: 100%|██████████| 12/12 [00:00<00:00, 363.62it/s]\n",
            "accuracy: 0.9020, loss: 0.2620 ||: 100%|██████████| 281/281 [00:01<00:00, 243.85it/s]\n",
            "accuracy: 0.8571, loss: 0.5353 ||: 100%|██████████| 12/12 [00:00<00:00, 457.12it/s]\n",
            "accuracy: 0.9066, loss: 0.2594 ||: 100%|██████████| 281/281 [00:01<00:00, 243.01it/s]\n",
            "accuracy: 0.8571, loss: 0.5124 ||: 100%|██████████| 12/12 [00:00<00:00, 407.47it/s]\n",
            "accuracy: 0.9037, loss: 0.2555 ||: 100%|██████████| 281/281 [00:01<00:00, 251.63it/s]\n",
            "accuracy: 0.8531, loss: 0.5039 ||: 100%|██████████| 12/12 [00:00<00:00, 446.60it/s]\n",
            "accuracy: 0.9064, loss: 0.2531 ||: 100%|██████████| 281/281 [00:01<00:00, 247.52it/s]\n",
            "accuracy: 0.8551, loss: 0.5096 ||: 100%|██████████| 12/12 [00:00<00:00, 416.57it/s]\n",
            "accuracy: 0.9048, loss: 0.2537 ||: 100%|██████████| 281/281 [00:01<00:00, 249.67it/s]\n",
            "accuracy: 0.8612, loss: 0.5026 ||: 100%|██████████| 12/12 [00:00<00:00, 454.13it/s]\n",
            "accuracy: 0.9077, loss: 0.2486 ||: 100%|██████████| 281/281 [00:01<00:00, 251.48it/s]\n",
            "accuracy: 0.8612, loss: 0.5012 ||: 100%|██████████| 12/12 [00:00<00:00, 442.91it/s]\n",
            "accuracy: 0.9094, loss: 0.2452 ||: 100%|██████████| 281/281 [00:01<00:00, 255.34it/s]\n",
            "accuracy: 0.8592, loss: 0.4843 ||: 100%|██████████| 12/12 [00:00<00:00, 470.53it/s]\n",
            "accuracy: 0.9122, loss: 0.2430 ||: 100%|██████████| 281/281 [00:01<00:00, 254.17it/s]\n",
            "accuracy: 0.8612, loss: 0.4873 ||: 100%|██████████| 12/12 [00:00<00:00, 459.06it/s]\n",
            "accuracy: 0.9123, loss: 0.2410 ||: 100%|██████████| 281/281 [00:01<00:00, 254.11it/s]\n",
            "accuracy: 0.8571, loss: 0.4785 ||: 100%|██████████| 12/12 [00:00<00:00, 470.39it/s]\n",
            "accuracy: 0.9112, loss: 0.2387 ||: 100%|██████████| 281/281 [00:01<00:00, 254.41it/s]\n",
            "accuracy: 0.8571, loss: 0.4700 ||: 100%|██████████| 12/12 [00:00<00:00, 450.39it/s]\n",
            "accuracy: 0.9120, loss: 0.2379 ||: 100%|██████████| 281/281 [00:01<00:00, 253.43it/s]\n",
            "accuracy: 0.8673, loss: 0.4662 ||: 100%|██████████| 12/12 [00:00<00:00, 469.87it/s]\n",
            "accuracy: 0.9130, loss: 0.2336 ||: 100%|██████████| 281/281 [00:01<00:00, 256.19it/s]\n",
            "accuracy: 0.8633, loss: 0.4653 ||: 100%|██████████| 12/12 [00:00<00:00, 474.81it/s]\n",
            "accuracy: 0.9147, loss: 0.2322 ||: 100%|██████████| 281/281 [00:01<00:00, 256.29it/s]\n",
            "accuracy: 0.8694, loss: 0.4581 ||: 100%|██████████| 12/12 [00:00<00:00, 381.69it/s]\n",
            "accuracy: 0.9160, loss: 0.2275 ||: 100%|██████████| 281/281 [00:01<00:00, 251.50it/s]\n",
            "accuracy: 0.8673, loss: 0.4646 ||: 100%|██████████| 12/12 [00:00<00:00, 480.98it/s]\n",
            "accuracy: 0.9155, loss: 0.2330 ||: 100%|██████████| 281/281 [00:01<00:00, 255.70it/s]\n",
            "accuracy: 0.8694, loss: 0.4664 ||: 100%|██████████| 12/12 [00:00<00:00, 447.44it/s]\n",
            "accuracy: 0.9166, loss: 0.2289 ||: 100%|██████████| 281/281 [00:01<00:00, 254.64it/s]\n",
            "accuracy: 0.8673, loss: 0.4496 ||: 100%|██████████| 12/12 [00:00<00:00, 428.28it/s]\n",
            "accuracy: 0.9159, loss: 0.2256 ||: 100%|██████████| 281/281 [00:01<00:00, 248.45it/s]\n",
            "accuracy: 0.8694, loss: 0.4529 ||: 100%|██████████| 12/12 [00:00<00:00, 437.79it/s]\n",
            "accuracy: 0.9172, loss: 0.2241 ||: 100%|██████████| 281/281 [00:01<00:00, 251.21it/s]\n",
            "accuracy: 0.8714, loss: 0.4519 ||: 100%|██████████| 12/12 [00:00<00:00, 460.39it/s]\n",
            "accuracy: 0.9195, loss: 0.2182 ||: 100%|██████████| 281/281 [00:01<00:00, 253.17it/s]\n",
            "accuracy: 0.8653, loss: 0.4334 ||: 100%|██████████| 12/12 [00:00<00:00, 466.74it/s]\n",
            "accuracy: 0.9163, loss: 0.2264 ||: 100%|██████████| 281/281 [00:01<00:00, 251.91it/s]\n",
            "accuracy: 0.8673, loss: 0.4527 ||: 100%|██████████| 12/12 [00:00<00:00, 448.79it/s]\n",
            "accuracy: 0.9196, loss: 0.2168 ||: 100%|██████████| 281/281 [00:01<00:00, 252.47it/s]\n",
            "accuracy: 0.8694, loss: 0.4411 ||: 100%|██████████| 12/12 [00:00<00:00, 472.05it/s]\n",
            "accuracy: 0.9199, loss: 0.2137 ||: 100%|██████████| 281/281 [00:01<00:00, 255.36it/s]\n",
            "accuracy: 0.8714, loss: 0.4352 ||: 100%|██████████| 12/12 [00:00<00:00, 473.63it/s]\n",
            "accuracy: 0.9190, loss: 0.2157 ||: 100%|██████████| 281/281 [00:01<00:00, 254.42it/s]\n",
            "accuracy: 0.8673, loss: 0.4189 ||: 100%|██████████| 12/12 [00:00<00:00, 474.78it/s]\n",
            "accuracy: 0.9211, loss: 0.2105 ||: 100%|██████████| 281/281 [00:01<00:00, 251.56it/s]\n",
            "accuracy: 0.8653, loss: 0.4281 ||: 100%|██████████| 12/12 [00:00<00:00, 384.38it/s]\n",
            "accuracy: 0.9197, loss: 0.2094 ||: 100%|██████████| 281/281 [00:01<00:00, 253.68it/s]\n",
            "accuracy: 0.8673, loss: 0.4222 ||: 100%|██████████| 12/12 [00:00<00:00, 486.05it/s]\n",
            "accuracy: 0.9198, loss: 0.2094 ||: 100%|██████████| 281/281 [00:01<00:00, 255.02it/s]\n",
            "accuracy: 0.8653, loss: 0.4228 ||: 100%|██████████| 12/12 [00:00<00:00, 467.76it/s]\n",
            "accuracy: 0.9215, loss: 0.2050 ||: 100%|██████████| 281/281 [00:01<00:00, 257.48it/s]\n",
            "accuracy: 0.8673, loss: 0.4146 ||: 100%|██████████| 12/12 [00:00<00:00, 470.78it/s]\n",
            "accuracy: 0.9220, loss: 0.2021 ||: 100%|██████████| 281/281 [00:01<00:00, 256.97it/s]\n",
            "accuracy: 0.8694, loss: 0.4132 ||: 100%|██████████| 12/12 [00:00<00:00, 429.49it/s]\n",
            "accuracy: 0.9200, loss: 0.2037 ||: 100%|██████████| 281/281 [00:01<00:00, 248.70it/s]\n",
            "accuracy: 0.8694, loss: 0.4153 ||: 100%|██████████| 12/12 [00:00<00:00, 441.12it/s]\n",
            "accuracy: 0.9237, loss: 0.2001 ||: 100%|██████████| 281/281 [00:01<00:00, 243.42it/s]\n",
            "accuracy: 0.8735, loss: 0.4104 ||: 100%|██████████| 12/12 [00:00<00:00, 371.29it/s]\n",
            "accuracy: 0.9220, loss: 0.2026 ||: 100%|██████████| 281/281 [00:01<00:00, 250.15it/s]\n",
            "accuracy: 0.8755, loss: 0.4006 ||: 100%|██████████| 12/12 [00:00<00:00, 454.20it/s]\n",
            "accuracy: 0.9238, loss: 0.1963 ||: 100%|██████████| 281/281 [00:01<00:00, 250.23it/s]\n",
            "accuracy: 0.8714, loss: 0.4031 ||: 100%|██████████| 12/12 [00:00<00:00, 462.60it/s]\n",
            "accuracy: 0.9239, loss: 0.1946 ||: 100%|██████████| 281/281 [00:01<00:00, 254.32it/s]\n",
            "accuracy: 0.8755, loss: 0.3923 ||: 100%|██████████| 12/12 [00:00<00:00, 469.70it/s]\n",
            "accuracy: 0.9239, loss: 0.1928 ||: 100%|██████████| 281/281 [00:01<00:00, 253.71it/s]\n",
            "accuracy: 0.8837, loss: 0.3986 ||: 100%|██████████| 12/12 [00:00<00:00, 453.13it/s]\n",
            "accuracy: 0.9267, loss: 0.1905 ||: 100%|██████████| 281/281 [00:01<00:00, 251.41it/s]\n",
            "accuracy: 0.8816, loss: 0.3990 ||: 100%|██████████| 12/12 [00:00<00:00, 418.65it/s]\n",
            "accuracy: 0.9270, loss: 0.1898 ||: 100%|██████████| 281/281 [00:01<00:00, 254.80it/s]\n",
            "accuracy: 0.8796, loss: 0.3848 ||: 100%|██████████| 12/12 [00:00<00:00, 457.30it/s]\n",
            "accuracy: 0.9274, loss: 0.1878 ||: 100%|██████████| 281/281 [00:01<00:00, 253.96it/s]\n",
            "accuracy: 0.8898, loss: 0.3925 ||: 100%|██████████| 12/12 [00:00<00:00, 454.17it/s]\n",
            "accuracy: 0.9279, loss: 0.1855 ||: 100%|██████████| 281/281 [00:01<00:00, 253.57it/s]\n",
            "accuracy: 0.8837, loss: 0.3784 ||: 100%|██████████| 12/12 [00:00<00:00, 476.32it/s]"
          ],
          "name": "stderr"
        },
        {
          "output_type": "stream",
          "text": [
            "train complete\n"
          ],
          "name": "stdout"
        },
        {
          "output_type": "stream",
          "text": [
            "\n"
          ],
          "name": "stderr"
        }
      ]
    },
    {
      "cell_type": "markdown",
      "metadata": {
        "id": "mwN6ctqVV0tf",
        "colab_type": "text"
      },
      "source": [
        "## Evaluation"
      ]
    },
    {
      "cell_type": "markdown",
      "metadata": {
        "id": "qkDs_UdIeuFz",
        "colab_type": "text"
      },
      "source": [
        "The simple code below creators a `predictor` object that applies the model to an input example and then loops over the examples in the validation set, printing out the input token, gold-standard output, and model output. You can see from these methods how to access data and model outputs for evaluation."
      ]
    },
    {
      "cell_type": "code",
      "metadata": {
        "id": "S0bE4fmLik08",
        "colab_type": "code",
        "colab": {}
      },
      "source": [
        "predictor = SentenceTaggerPredictor(model, dataset_reader=reader)\n",
        "\n",
        "def tag_sentence(s):\n",
        "  tag_ids = np.argmax(predictor.predict_instance(s)['tag_logits'], axis=-1)\n",
        "  fields = zip(s['tokens'], s['tags'], [model.vocab.get_token_from_index(i, 'labels') for i in tag_ids])\n",
        "  return list(fields)\n",
        "\n",
        "baseline_output = [tag_sentence(i) for i in validation_dataset]"
      ],
      "execution_count": 0,
      "outputs": []
    },
    {
      "cell_type": "markdown",
      "metadata": {
        "id": "BpYMx7RVfCyT",
        "colab_type": "text"
      },
      "source": [
        "Now, you can implement two evaluation functions: `violations` and `span_stats`."
      ]
    },
    {
      "cell_type": "code",
      "metadata": {
        "id": "fubyTw2S8dTW",
        "colab_type": "code",
        "colab": {}
      },
      "source": [
        "def create_tuples(sequence):\n",
        "  tup = []\n",
        "  i = 0\n",
        "  while(i < len(sequence)):\n",
        "    current = sequence[i]\n",
        "    if current.startswith('O'):\n",
        "      i = i + 1\n",
        "      # print('O tag fixed')\n",
        "      continue\n",
        "    else:\n",
        "      tag = ''.join(current[2:])\n",
        "      # print('=========',current,tag)\n",
        "      j = i\n",
        "      while(j < len(sequence)):\n",
        "        new_current = ''.join(sequence[j][2:])\n",
        "        # print('@@@@',sequence[j], j, new_current)\n",
        "        # print('---',current, new_current)\n",
        "        if tag.startswith(new_current) and new_current is not '':\n",
        "          # print('---',current, new_current)\n",
        "          j = j + 1\n",
        "        else:\n",
        "          # print(\">>>>\")\n",
        "          break\n",
        "      if j == i:\n",
        "        tup.append([tag, i, j])\n",
        "      else:\n",
        "        tup.append([tag, i, j])\n",
        "        i = j\n",
        "      i = i + 1\n",
        "  return tup"
      ],
      "execution_count": 0,
      "outputs": []
    },
    {
      "cell_type": "code",
      "metadata": {
        "id": "1FeVSuC7DZTY",
        "colab_type": "code",
        "colab": {}
      },
      "source": [
        "def get_span(sequence):\n",
        "  span_list = []\n",
        "  for tokens in sequence:\n",
        "    # print('\\n'.join(tokens))\n",
        "    span_list.append(create_tuples(tokens))\n",
        "  return span_list\n",
        "\n",
        "def get_true_positive(gold_standard_span, model_output_span):\n",
        "  count = 0\n",
        "  for i in range(0, len(gold_standard_span)):\n",
        "    gold = gold_standard_span[i]\n",
        "    mod = model_output_span[i]\n",
        "    for j in range(0, len(mod)):\n",
        "      # print(gold[j], mod[j])\n",
        "      # print(len(mod), len(gold))\n",
        "      tup = mod[j]\n",
        "      for item in gold:\n",
        "      #   print(item , tup)\n",
        "        if item[0] == tup[0] and item[1] == tup[1] and item[2] == tup[2]:\n",
        "          # print('##########',item , tup)\n",
        "          count = count + 1\n",
        "          break\n",
        "    # break\n",
        "  return count\n",
        "\n",
        "def get_recall(gold_standard_span, model_output_span):\n",
        "  # print(gold_standard_span)\n",
        "  true_positive = get_true_positive(gold_standard_span, model_output_span)\n",
        "  # print('12345678', true_positive)\n",
        "  false_postive = 0\n",
        "  counts = 0\n",
        "  for i in range(0, len(gold_standard_span)):\n",
        "    counts = counts + len(gold_standard_span[i])\n",
        "  precision = 1.0 * true_positive / counts\n",
        "  return precision\n",
        "  # return 0\n",
        "\n",
        "def get_precision(gold_standard_span, model_output_span):\n",
        "  true_positive = get_true_positive(gold_standard_span, model_output_span)\n",
        "  false_negative = 0\n",
        "  counts = 0\n",
        "  for i in range(0, len(model_output_span)):\n",
        "    counts = counts + len(model_output_span[i])\n",
        "  recall = 1.0 * true_positive / counts\n",
        "  return recall\n",
        "  # return 0\n",
        "\n",
        "def get_F1(gold_standard_span, model_output_span):\n",
        "  recall = get_recall(gold_standard_span, model_output_span)\n",
        "  precision = get_precision(gold_standard_span, model_output_span)\n",
        "  F1 = 2.0 * recall * precision / (recall + precision)\n",
        "  return F1"
      ],
      "execution_count": 0,
      "outputs": []
    },
    {
      "cell_type": "code",
      "metadata": {
        "id": "P042A2Ofg3wa",
        "colab_type": "code",
        "outputId": "ba8a2030-41c8-4f29-bf58-6ad07ab78f9e",
        "colab": {
          "base_uri": "https://localhost:8080/",
          "height": 52
        }
      },
      "source": [
        " # TODO: count the number of NER label violations,\n",
        "# such as O followed by I-TYPE or B-TYPE followed by\n",
        "# I-OTHER_TYPE\n",
        "# Take tagger output as input\n",
        "\n",
        "def get_output_of_model(tagged, k):\n",
        "  output = []\n",
        "  for sent in tagged:\n",
        "    span_output = []\n",
        "    for token in sent:\n",
        "      span_output.append(token[k])\n",
        "    output.append(span_output)\n",
        "  # print(\"========\", output)\n",
        "  return output\n",
        "\n",
        "def check_B_violations(previous, current):\n",
        "  return 0\n",
        "\n",
        "def check_I_violations(previous, current):\n",
        "  if previous is 'O':\n",
        "    # print(' O violations', previous, current)\n",
        "    return 1\n",
        "  previous_type = ''.join(previous[2:])\n",
        "  current_type = ''.join(current[2:])\n",
        "  # print(\"***\", previous_type, current_type)\n",
        "  if previous.startswith('B'):\n",
        "    if not previous_type.startswith(current_type):\n",
        "      # print(\"B tag not followed by I tag\", previous, current)\n",
        "      return 1\n",
        "  if (previous.startswith('I')):\n",
        "    if not (previous_type.startswith(current_type)):\n",
        "      # print(\"I tag not followed by I tag\", previous, current)\n",
        "      return 1\n",
        "  return 0\n",
        "\n",
        "def check_O_violations(previous, current):\n",
        "  return 0\n",
        "\n",
        "def count_violations(sequence):\n",
        "  count = 0\n",
        "  for i in range(1, len(sequence)):\n",
        "    # print(sequence[i])\n",
        "    previous = sequence[i-1]\n",
        "    current = sequence[i]\n",
        "    if current.startswith(\"B\"):\n",
        "      count = count + check_B_violations(previous, current)\n",
        "    elif current.startswith(\"I\"):\n",
        "      count = count + check_I_violations(previous, current)\n",
        "    else:\n",
        "      count = count + check_O_violations(previous, current)\n",
        "  # print(count, \"................\")\n",
        "  return count\n",
        "\n",
        "def violations(tagged):\n",
        "  violations_count = []\n",
        "  output = get_output_of_model(tagged, 2)\n",
        "  for tokens in output:\n",
        "    violations_count.append(count_violations(tokens))\n",
        "    # break\n",
        "  return sum(violations_count)\n",
        "    # break\n",
        "\n",
        "  # return count\n",
        "\n",
        "# TODO: return the span-level precision, recall, and F1\n",
        "# Take tagger output as input\n",
        "def span_stats(tagged):\n",
        "  model_output_span = get_span(get_output_of_model(tagged, 1))\n",
        "  \n",
        "  gold_standard_span = get_span(get_output_of_model(tagged, 2))\n",
        "  return {'precision': get_precision(gold_standard_span, model_output_span),\n",
        "          'recall': get_recall(gold_standard_span, model_output_span),\n",
        "          'f1': get_F1(gold_standard_span, model_output_span)}\n",
        "\n",
        "## You can check how many violations are made by the model output in predictor.\n",
        "model_violations = violations(baseline_output)\n",
        "print(f'Total violations for baseline model: {model_violations}')\n",
        "# print(baseline_output)\n",
        "print(f'Statistics of baseline model: {span_stats(baseline_output)}')"
      ],
      "execution_count": 13,
      "outputs": [
        {
          "output_type": "stream",
          "text": [
            "Total violations for baseline model: 40\n",
            "Statistics of baseline model: {'precision': 0.23809523809523808, 'recall': 0.19230769230769232, 'f1': 0.21276595744680848}\n"
          ],
          "name": "stdout"
        }
      ]
    },
    {
      "cell_type": "markdown",
      "metadata": {
        "id": "fX7-quD2hnzB",
        "colab_type": "text"
      },
      "source": [
        "## Decoding"
      ]
    },
    {
      "cell_type": "markdown",
      "metadata": {
        "id": "WCgW9d9ohsGv",
        "colab_type": "text"
      },
      "source": [
        "Now you can finally implement the simple Viterbi decoder. The `predictor` object, when applied to an input sentence, first calculates the scores for each possible output tag for each token. See the line `predictor.predict_instance(i)['tag_logits']` in the code above.\n",
        "\n",
        "Then, you will construct a transition matrix. You can use the code below to get a list of the tags the model knows about. For a set of K tags, construct a K-by-K matrix with a log(1)=0 when a transition between a given tag pair is valid and a log(0)=-infinity otherwise.\n",
        "\n",
        "Finally, implement a Viterbi decoder that takes the predictor object and a dataset object and outputs tagged data, just like the `tag_sentence` function above. It should use the Viterbi algorithm with the (max, plus) semiring. You'll be working with sums of log probabilities instead of products of probabilties.\n",
        "\n",
        "Run your `violations` function on the output of this decoder to make sure that there are no invalid tag transitions. Also, compare the span-level metrics on `baseline_output` and your new output using your `span_stats` function."
      ]
    },
    {
      "cell_type": "code",
      "metadata": {
        "id": "X5IN5qTkJ-bx",
        "colab_type": "code",
        "colab": {
          "base_uri": "https://localhost:8080/",
          "height": 52
        },
        "outputId": "d95d9eba-522d-4edc-c496-acebd44d05ea"
      },
      "source": [
        "# k is the number of tags known to the model\n",
        "k = len(vocab.get_index_to_token_vocabulary('labels'))\n",
        "tags = vocab.get_index_to_token_vocabulary('labels')\n",
        "transition_matrix = []\n",
        "for i in range(0, k):\n",
        "  row = []\n",
        "  for j in range(0, k):\n",
        "    # if violation not there 0 is returned but you need to have 1 so xor-ing. And if violation is there it returns 1 so by xor-ing make it 0\n",
        "    row.append(np.log(1^count_violations([tags[i], tags[j]])))\n",
        "  transition_matrix.append(row)\n",
        "d = np.array(transition_matrix)"
      ],
      "execution_count": 14,
      "outputs": [
        {
          "output_type": "stream",
          "text": [
            "/usr/local/lib/python3.6/dist-packages/ipykernel_launcher.py:8: RuntimeWarning: divide by zero encountered in log\n",
            "  \n"
          ],
          "name": "stderr"
        }
      ]
    },
    {
      "cell_type": "code",
      "metadata": {
        "id": "bsCi3T3-KdMz",
        "colab_type": "code",
        "colab": {
          "base_uri": "https://localhost:8080/",
          "height": 69
        },
        "outputId": "dfc44d4b-c8c0-4f0a-ca86-92f627bffd00"
      },
      "source": [
        "# dp table \n",
        "# using top down dynamic programming approach to fill up the table and get best tagging sequence\n",
        "def viterbi(probability, row, column):\n",
        "  # if row is initial row then you directly need the emission probability\n",
        "  if row == 0:\n",
        "    return probability[row][column]\n",
        "  # look up if value in cell is already filled\n",
        "  if viterbi_table[row][column] != 0:\n",
        "    return viterbi_table[row][column]\n",
        "  maximum = np.log(0)\n",
        "  backtrackptr = -1\n",
        "  for col in range(len(probability[row - 1])):\n",
        "    current = viterbi(probability, row - 1, col) + transition_matrix[col][column]\n",
        "    if current > maximum:\n",
        "      maximum = current\n",
        "      backtrackptr = col\n",
        "  back_ptr_choice[row][column] = backtrackptr\n",
        "  viterbi_table[row][column] = maximum + probability[row][column]\n",
        "  return viterbi_table[row][column]\n",
        "\n",
        "# this is the matrix to store the tagging sequence pointer\n",
        "back_ptr_choice = []\n",
        "# dp look up table. Filled using the top down approach\n",
        "viterbi_table = []\n",
        "all_tags = vocab.get_index_to_token_vocabulary('labels')\n",
        "def tag_sentence_crf(s):\n",
        "  emission_prob = predictor.predict_instance(s)['tag_logits']\n",
        "  # fill up dp table with 0\n",
        "  for row in range(len(emission_prob)):\n",
        "    viterbi_table.insert(row, [0] * len(emission_prob[row]))\n",
        "    back_ptr_choice.insert(row, [0] * len(emission_prob[row]))\n",
        "  maximum = np.log(0)\n",
        "  # c is the tag choice for tagging seqence\n",
        "  c = -1\n",
        "  # fill table and get best tag sequence with 0 violations\n",
        "  for col in range(len(emission_prob[len(emission_prob) - 1])):\n",
        "    curr = viterbi(emission_prob, len(emission_prob) - 1, col)\n",
        "    if curr > maximum:\n",
        "      maximum = curr\n",
        "      c = col\n",
        "\n",
        "  crf_tagging_sequence = []\n",
        "  for r in reversed(range(len(emission_prob))):\n",
        "    # print(all_tags[c])\n",
        "    # append the tags in sequential order\n",
        "    crf_tagging_sequence.append(all_tags[c])\n",
        "    c = back_ptr_choice[r][c]\n",
        "  crf_tagging_sequence.reverse()\n",
        "  fields = zip(s['tokens'], s['tags'], crf_tagging_sequence)\n",
        "  return list(fields)\n",
        "\n",
        "  \n",
        "baseline_output_crf = [tag_sentence_crf(i) for i in validation_dataset]"
      ],
      "execution_count": 15,
      "outputs": [
        {
          "output_type": "stream",
          "text": [
            "/usr/local/lib/python3.6/dist-packages/ipykernel_launcher.py:30: RuntimeWarning: divide by zero encountered in log\n",
            "/usr/local/lib/python3.6/dist-packages/ipykernel_launcher.py:8: RuntimeWarning: divide by zero encountered in log\n",
            "  \n"
          ],
          "name": "stderr"
        }
      ]
    },
    {
      "cell_type": "code",
      "metadata": {
        "id": "7LYYQly54CC7",
        "colab_type": "code",
        "colab": {
          "base_uri": "https://localhost:8080/",
          "height": 52
        },
        "outputId": "165487ed-0d32-462e-f4db-cdc2035ef615"
      },
      "source": [
        "print(f'CRF model violations: {violations(baseline_output_crf)}')\n",
        "print(f'Statistics of CRF model: {span_stats(baseline_output_crf)}')"
      ],
      "execution_count": 17,
      "outputs": [
        {
          "output_type": "stream",
          "text": [
            "CRF model violations: 0\n",
            "Statistics of CRF model: {'precision': 0.5, 'recall': 0.5121951219512195, 'f1': 0.5060240963855421}\n"
          ],
          "name": "stdout"
        }
      ]
    },
    {
      "cell_type": "code",
      "metadata": {
        "id": "22t05yE-TX-u",
        "colab_type": "code",
        "colab": {}
      },
      "source": [
        ""
      ],
      "execution_count": 0,
      "outputs": []
    }
  ]
}